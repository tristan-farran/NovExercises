{
 "cells": [
  {
   "cell_type": "markdown",
   "id": "be29ce19",
   "metadata": {},
   "source": [
    "# Generate Orders from Positions"
   ]
  },
  {
   "cell_type": "code",
   "execution_count": 4,
   "id": "17a7d827",
   "metadata": {
    "ExecuteTime": {
     "end_time": "2024-10-12T12:12:54.188526Z",
     "start_time": "2024-10-12T12:12:51.927861Z"
    }
   },
   "outputs": [],
   "source": [
    "import pandas as pd\n",
    "import numpy as np\n",
    "import io"
   ]
  },
  {
   "cell_type": "markdown",
   "id": "489cc0b5",
   "metadata": {},
   "source": [
    "### Data"
   ]
  },
  {
   "cell_type": "code",
   "execution_count": 5,
   "id": "d8297a2d",
   "metadata": {
    "ExecuteTime": {
     "end_time": "2024-10-12T12:43:22.016564Z",
     "start_time": "2024-10-12T12:43:22.007003Z"
    }
   },
   "outputs": [],
   "source": [
    "def read(s):\n",
    "    df = pd.read_csv(io.StringIO(s), sep=\"|\") # io.StringIO() here let's us treat the string s as though it were a .csv file, necessary for pandas\n",
    "    df.rename(columns = lambda s : s.strip(), inplace=True) # anonymous function stripping whitespace\n",
    "    for col in df.columns:\n",
    "        if col in [\"dt\", \"rt\"]:\n",
    "            df[col] = pd.to_datetime(df[col]).dt.tz_localize('UTC') # need to localize to UTC to compare with timestamp\n",
    "        elif df.dtypes[col] == np.dtype(\"O\"): #dtype(\"0\") are non-numeric np objects\n",
    "            df[col] = df[col].apply(lambda s: s.strip())\n",
    "        else:\n",
    "            pass\n",
    "    return df"
   ]
  },
  {
   "cell_type": "markdown",
   "id": "b972b2cb",
   "metadata": {},
   "source": [
    "1. rt - reference time: when the strategy wants to achieve given target position\n",
    "2. dt - decision time: when the strategy decided to achieve that position"
   ]
  },
  {
   "cell_type": "code",
   "execution_count": 6,
   "id": "2d9b56c4",
   "metadata": {
    "ExecuteTime": {
     "end_time": "2024-10-12T12:43:22.411244Z",
     "start_time": "2024-10-12T12:43:22.390604Z"
    }
   },
   "outputs": [],
   "source": [
    "# Target Positions\n",
    "tpos = read(\"\"\"\n",
    "    rt                   | strategy | asset | dt                   | value\n",
    "    2023-08-29 07:00:00z | s1       | PLN   | 2023-08-29 07:00:00z | 4e6\n",
    "    2023-08-29 16:00:00z | s1       | CZK   | 2023-08-29 07:00:00z | -24e6\n",
    "    2023-08-30 07:00:00z | s1       | PLN   | 2023-08-30 07:00:00z | 8e6\n",
    "    2023-08-30 16:00:00z | s1       | CZK   | 2023-08-30 07:00:00z | -48e6\n",
    "    2023-08-29 07:00:00z | s2       | EUR   | 2023-08-29 07:00:00z | 1.8e6\n",
    "    2023-08-29 16:00:00z | s2       | AUD   | 2023-08-29 07:00:00z | -1.5e6\n",
    "    2023-08-30 07:00:00z | s2       | EUR   | 2023-08-30 07:00:00z | 3.6e6\n",
    "    2023-08-30 16:00:00z | s2       | AUD   | 2023-08-30 07:00:00z | -1e6\n",
    "    2023-08-29 07:00:00z | s3       | CZK   | 2023-08-29 07:00:00z | 12e6\n",
    "    2023-08-29 16:00:00z | s3       | CZK   | 2023-08-29 07:00:00z | 18e6\n",
    "    2023-08-30 07:00:00z | s3       | CZK   | 2023-08-30 07:00:00z | 18e6\n",
    "    2023-08-30 16:00:00z | s3       | CZK   | 2023-08-30 07:00:00z | 24e6\n",
    "    \"\"\")\n",
    "\n",
    "tpos.rename(columns={'value': 'target_position'}, inplace=True)"
   ]
  },
  {
   "cell_type": "code",
   "execution_count": 7,
   "id": "f09beb7c",
   "metadata": {
    "ExecuteTime": {
     "end_time": "2024-10-12T12:43:22.750145Z",
     "start_time": "2024-10-12T12:43:22.730243Z"
    }
   },
   "outputs": [],
   "source": [
    "fx_rates = read(\"\"\"\n",
    "    rt                   | asset | value\n",
    "    2023-08-29 07:00:00z | PLN   | 3.934\n",
    "    2023-08-29 16:00:00z | PLN   | 3.924\n",
    "    2023-08-30 07:00:00z | PLN   | 3.914\n",
    "    2023-08-30 16:00:00z | PLN   | 3.904\n",
    "    \n",
    "    2023-08-29 07:00:00z | CZK   | 23.12\n",
    "    2023-08-29 16:00:00z | CZK   | 23.08\n",
    "    2023-08-30 07:00:00z | CZK   | 23.02\n",
    "    2023-08-30 16:00:00z | CZK   | 23.01\n",
    "    \n",
    "    2023-08-29 07:00:00z | EUR   | 1.116\n",
    "    2023-08-29 16:00:00z | EUR   | 1.119\n",
    "    2023-08-30 07:00:00z | EUR   | 1.121\n",
    "    2023-08-30 16:00:00z | EUR   | 1.122\n",
    "    \n",
    "    2023-08-29 07:00:00z | AUD   | 0.672\n",
    "    2023-08-29 16:00:00z | AUD   | 0.682\n",
    "    2023-08-30 07:00:00z | AUD   | 0.689\n",
    "    2023-08-30 16:00:00z | AUD   | 0.690\n",
    "    \"\"\")\n",
    "\n",
    "fx_rates.rename(columns={'value': 'fx_rate'}, inplace=True)\n",
    "\n",
    "fx_rates.loc[fx_rates['asset'] == \"AUD\", 'fx_rate'] = 1 / fx_rates.loc[fx_rates['asset'] == \"AUD\", 'fx_rate']\n",
    "fx_rates.loc[fx_rates['asset'] == \"EUR\", 'fx_rate'] = 1 / fx_rates.loc[fx_rates['asset'] == \"EUR\", 'fx_rate']\n"
   ]
  },
  {
   "cell_type": "code",
   "execution_count": 8,
   "id": "b2dcbda1",
   "metadata": {
    "ExecuteTime": {
     "end_time": "2024-10-12T12:43:23.083573Z",
     "start_time": "2024-10-12T12:43:23.072876Z"
    }
   },
   "outputs": [],
   "source": [
    "min_order_size_usd = read(\"\"\"\n",
    "    asset | value\n",
    "    PLN   | 5e5\n",
    "    CZK   | 5e5\n",
    "    EUR   | 1e6\n",
    "    AUD   | 1e6\n",
    "\"\"\")\n",
    "\n",
    "min_order_size_usd.rename(columns={'value': 'min_order_size_usd'}, inplace=True)"
   ]
  },
  {
   "cell_type": "code",
   "execution_count": 9,
   "id": "40bea2cd",
   "metadata": {
    "ExecuteTime": {
     "end_time": "2024-10-12T12:43:23.536424Z",
     "start_time": "2024-10-12T12:43:23.526747Z"
    }
   },
   "outputs": [],
   "source": [
    "trading_session = pd.Timestamp(\"2023-08-30 16:00:00z\")"
   ]
  },
  {
   "cell_type": "markdown",
   "id": "37aa00ad",
   "metadata": {},
   "source": [
    "### Generate orders (total & by strategy) as of trading session in local currency"
   ]
  },
  {
   "cell_type": "code",
   "execution_count": 10,
   "id": "727952dd",
   "metadata": {},
   "outputs": [],
   "source": [
    "def find_last_position(asset, past_positions, reference_time):\n",
    "    asset_rows = past_positions[(past_positions['asset'] == asset) & (past_positions['rt'] < reference_time)]\n",
    "    asset_rows = asset_rows.sort_values(by='rt', ascending=False)\n",
    "    nearest_date = asset_rows.iloc[0]['rt'].date()\n",
    "    nearest_day_rows = asset_rows[asset_rows['rt'].dt.date == nearest_date]\n",
    "\n",
    "    return nearest_day_rows['target_position'].sum()\n"
   ]
  },
  {
   "cell_type": "code",
   "execution_count": 11,
   "id": "98016a5b",
   "metadata": {
    "ExecuteTime": {
     "end_time": "2024-10-12T14:01:26.409608Z",
     "start_time": "2024-10-12T14:01:26.389634Z"
    }
   },
   "outputs": [
    {
     "name": "stderr",
     "output_type": "stream",
     "text": [
      "/var/folders/80/qjcx023s5dsfl5g98wkn22yc0000gn/T/ipykernel_10193/3656953785.py:2: SettingWithCopyWarning: \n",
      "A value is trying to be set on a copy of a slice from a DataFrame.\n",
      "Try using .loc[row_indexer,col_indexer] = value instead\n",
      "\n",
      "See the caveats in the documentation: https://pandas.pydata.org/pandas-docs/stable/user_guide/indexing.html#returning-a-view-versus-a-copy\n",
      "  today_positions[\"last_position\"] = today_positions['asset'].apply(lambda asset: find_last_position(asset, tpos, trading_session))\n",
      "/var/folders/80/qjcx023s5dsfl5g98wkn22yc0000gn/T/ipykernel_10193/3656953785.py:3: SettingWithCopyWarning: \n",
      "A value is trying to be set on a copy of a slice from a DataFrame.\n",
      "Try using .loc[row_indexer,col_indexer] = value instead\n",
      "\n",
      "See the caveats in the documentation: https://pandas.pydata.org/pandas-docs/stable/user_guide/indexing.html#returning-a-view-versus-a-copy\n",
      "  today_positions[\"order_local\"] = today_positions[\"target_position\"] - today_positions[\"last_position\"]\n"
     ]
    }
   ],
   "source": [
    "today_positions = tpos[tpos['rt'] == trading_session]\n",
    "today_positions[\"last_position\"] = today_positions['asset'].apply(lambda asset: find_last_position(asset, tpos, trading_session))\n",
    "today_positions[\"order_local\"] = today_positions[\"target_position\"] - today_positions[\"last_position\"]"
   ]
  },
  {
   "cell_type": "code",
   "execution_count": 12,
   "id": "4302d466",
   "metadata": {},
   "outputs": [
    {
     "name": "stdout",
     "output_type": "stream",
     "text": [
      "Orders by strategy:\n"
     ]
    },
    {
     "data": {
      "text/html": [
       "<div>\n",
       "<style scoped>\n",
       "    .dataframe tbody tr th:only-of-type {\n",
       "        vertical-align: middle;\n",
       "    }\n",
       "\n",
       "    .dataframe tbody tr th {\n",
       "        vertical-align: top;\n",
       "    }\n",
       "\n",
       "    .dataframe thead th {\n",
       "        text-align: right;\n",
       "    }\n",
       "</style>\n",
       "<table border=\"1\" class=\"dataframe\">\n",
       "  <thead>\n",
       "    <tr style=\"text-align: right;\">\n",
       "      <th></th>\n",
       "      <th>strategy</th>\n",
       "      <th>asset</th>\n",
       "      <th>order_local</th>\n",
       "    </tr>\n",
       "  </thead>\n",
       "  <tbody>\n",
       "    <tr>\n",
       "      <th>3</th>\n",
       "      <td>s1</td>\n",
       "      <td>CZK</td>\n",
       "      <td>-66000000.0</td>\n",
       "    </tr>\n",
       "    <tr>\n",
       "      <th>7</th>\n",
       "      <td>s2</td>\n",
       "      <td>AUD</td>\n",
       "      <td>500000.0</td>\n",
       "    </tr>\n",
       "    <tr>\n",
       "      <th>11</th>\n",
       "      <td>s3</td>\n",
       "      <td>CZK</td>\n",
       "      <td>6000000.0</td>\n",
       "    </tr>\n",
       "  </tbody>\n",
       "</table>\n",
       "</div>"
      ],
      "text/plain": [
       "   strategy asset  order_local\n",
       "3        s1   CZK  -66000000.0\n",
       "7        s2   AUD     500000.0\n",
       "11       s3   CZK    6000000.0"
      ]
     },
     "execution_count": 12,
     "metadata": {},
     "output_type": "execute_result"
    }
   ],
   "source": [
    "print(\"Orders by strategy:\")\n",
    "today_positions[[\"strategy\", \"asset\", \"order_local\"]]"
   ]
  },
  {
   "cell_type": "code",
   "execution_count": 13,
   "id": "d7e0d786",
   "metadata": {},
   "outputs": [
    {
     "name": "stdout",
     "output_type": "stream",
     "text": [
      "Total orders:\n"
     ]
    },
    {
     "data": {
      "text/html": [
       "<div>\n",
       "<style scoped>\n",
       "    .dataframe tbody tr th:only-of-type {\n",
       "        vertical-align: middle;\n",
       "    }\n",
       "\n",
       "    .dataframe tbody tr th {\n",
       "        vertical-align: top;\n",
       "    }\n",
       "\n",
       "    .dataframe thead th {\n",
       "        text-align: right;\n",
       "    }\n",
       "</style>\n",
       "<table border=\"1\" class=\"dataframe\">\n",
       "  <thead>\n",
       "    <tr style=\"text-align: right;\">\n",
       "      <th></th>\n",
       "      <th>asset</th>\n",
       "      <th>order_local</th>\n",
       "    </tr>\n",
       "  </thead>\n",
       "  <tbody>\n",
       "    <tr>\n",
       "      <th>0</th>\n",
       "      <td>AUD</td>\n",
       "      <td>500000.0</td>\n",
       "    </tr>\n",
       "    <tr>\n",
       "      <th>1</th>\n",
       "      <td>CZK</td>\n",
       "      <td>-60000000.0</td>\n",
       "    </tr>\n",
       "  </tbody>\n",
       "</table>\n",
       "</div>"
      ],
      "text/plain": [
       "  asset  order_local\n",
       "0   AUD     500000.0\n",
       "1   CZK  -60000000.0"
      ]
     },
     "execution_count": 13,
     "metadata": {},
     "output_type": "execute_result"
    }
   ],
   "source": [
    "print(\"Total orders:\")\n",
    "today_positions.groupby('asset', as_index=False)['order_local'].sum()"
   ]
  },
  {
   "cell_type": "markdown",
   "id": "333a482c",
   "metadata": {
    "ExecuteTime": {
     "end_time": "2024-10-12T12:23:17.003087Z",
     "start_time": "2024-10-12T12:23:16.992717Z"
    }
   },
   "source": [
    "### Generate orders (total & by strategy) as of trading session in USD"
   ]
  },
  {
   "cell_type": "code",
   "execution_count": 14,
   "id": "827148eb",
   "metadata": {
    "ExecuteTime": {
     "end_time": "2024-10-12T13:16:43.899065Z",
     "start_time": "2024-10-12T13:16:43.881002Z"
    }
   },
   "outputs": [],
   "source": [
    "todays_fx = fx_rates[fx_rates['rt'] == trading_session]\n",
    "\n",
    "today_positions = today_positions.merge(todays_fx, on=['asset', 'rt'], how='left')\n",
    "today_positions['order_usd'] = today_positions['order_local'] / today_positions['fx_rate']"
   ]
  },
  {
   "cell_type": "code",
   "execution_count": 15,
   "id": "c7aafae8",
   "metadata": {},
   "outputs": [
    {
     "name": "stdout",
     "output_type": "stream",
     "text": [
      "Orders by strategy in USD:\n"
     ]
    },
    {
     "data": {
      "text/html": [
       "<div>\n",
       "<style scoped>\n",
       "    .dataframe tbody tr th:only-of-type {\n",
       "        vertical-align: middle;\n",
       "    }\n",
       "\n",
       "    .dataframe tbody tr th {\n",
       "        vertical-align: top;\n",
       "    }\n",
       "\n",
       "    .dataframe thead th {\n",
       "        text-align: right;\n",
       "    }\n",
       "</style>\n",
       "<table border=\"1\" class=\"dataframe\">\n",
       "  <thead>\n",
       "    <tr style=\"text-align: right;\">\n",
       "      <th></th>\n",
       "      <th>strategy</th>\n",
       "      <th>asset</th>\n",
       "      <th>order_usd</th>\n",
       "    </tr>\n",
       "  </thead>\n",
       "  <tbody>\n",
       "    <tr>\n",
       "      <th>0</th>\n",
       "      <td>s1</td>\n",
       "      <td>CZK</td>\n",
       "      <td>-2.868318e+06</td>\n",
       "    </tr>\n",
       "    <tr>\n",
       "      <th>1</th>\n",
       "      <td>s2</td>\n",
       "      <td>AUD</td>\n",
       "      <td>3.450000e+05</td>\n",
       "    </tr>\n",
       "    <tr>\n",
       "      <th>2</th>\n",
       "      <td>s3</td>\n",
       "      <td>CZK</td>\n",
       "      <td>2.607562e+05</td>\n",
       "    </tr>\n",
       "  </tbody>\n",
       "</table>\n",
       "</div>"
      ],
      "text/plain": [
       "  strategy asset     order_usd\n",
       "0       s1   CZK -2.868318e+06\n",
       "1       s2   AUD  3.450000e+05\n",
       "2       s3   CZK  2.607562e+05"
      ]
     },
     "execution_count": 15,
     "metadata": {},
     "output_type": "execute_result"
    }
   ],
   "source": [
    "print(\"Orders by strategy in USD:\")\n",
    "today_positions[['strategy', 'asset', 'order_usd']]"
   ]
  },
  {
   "cell_type": "code",
   "execution_count": 16,
   "id": "33f129f5",
   "metadata": {},
   "outputs": [
    {
     "name": "stdout",
     "output_type": "stream",
     "text": [
      "Total orders in USD:\n"
     ]
    },
    {
     "data": {
      "text/html": [
       "<div>\n",
       "<style scoped>\n",
       "    .dataframe tbody tr th:only-of-type {\n",
       "        vertical-align: middle;\n",
       "    }\n",
       "\n",
       "    .dataframe tbody tr th {\n",
       "        vertical-align: top;\n",
       "    }\n",
       "\n",
       "    .dataframe thead th {\n",
       "        text-align: right;\n",
       "    }\n",
       "</style>\n",
       "<table border=\"1\" class=\"dataframe\">\n",
       "  <thead>\n",
       "    <tr style=\"text-align: right;\">\n",
       "      <th></th>\n",
       "      <th>asset</th>\n",
       "      <th>order_usd</th>\n",
       "    </tr>\n",
       "  </thead>\n",
       "  <tbody>\n",
       "    <tr>\n",
       "      <th>0</th>\n",
       "      <td>AUD</td>\n",
       "      <td>3.450000e+05</td>\n",
       "    </tr>\n",
       "    <tr>\n",
       "      <th>1</th>\n",
       "      <td>CZK</td>\n",
       "      <td>-2.607562e+06</td>\n",
       "    </tr>\n",
       "  </tbody>\n",
       "</table>\n",
       "</div>"
      ],
      "text/plain": [
       "  asset     order_usd\n",
       "0   AUD  3.450000e+05\n",
       "1   CZK -2.607562e+06"
      ]
     },
     "execution_count": 16,
     "metadata": {},
     "output_type": "execute_result"
    }
   ],
   "source": [
    "print(\"Total orders in USD:\")\n",
    "total_orders = today_positions.groupby('asset')['order_usd'].sum().to_frame().reset_index()\n",
    "total_orders"
   ]
  },
  {
   "cell_type": "markdown",
   "id": "fbfe8f91",
   "metadata": {},
   "source": [
    "### Apply Minimum Order Size and generate new target position after this session\n",
    "\n",
    "*Context: In practice there is often minimum cost we need to pay when trading. This means the orders must be of certain size to make economic sense. Therefore, if an order is below the limit size it will not be executed and this needs to be fed back to the target position, so it trades knowing that the past position is T-2, not T-1*"
   ]
  },
  {
   "cell_type": "code",
   "execution_count": 17,
   "id": "58319df6",
   "metadata": {},
   "outputs": [
    {
     "data": {
      "text/html": [
       "<div>\n",
       "<style scoped>\n",
       "    .dataframe tbody tr th:only-of-type {\n",
       "        vertical-align: middle;\n",
       "    }\n",
       "\n",
       "    .dataframe tbody tr th {\n",
       "        vertical-align: top;\n",
       "    }\n",
       "\n",
       "    .dataframe thead th {\n",
       "        text-align: right;\n",
       "    }\n",
       "</style>\n",
       "<table border=\"1\" class=\"dataframe\">\n",
       "  <thead>\n",
       "    <tr style=\"text-align: right;\">\n",
       "      <th></th>\n",
       "      <th>asset</th>\n",
       "      <th>order_usd</th>\n",
       "      <th>validate_orders_USD</th>\n",
       "    </tr>\n",
       "  </thead>\n",
       "  <tbody>\n",
       "    <tr>\n",
       "      <th>0</th>\n",
       "      <td>AUD</td>\n",
       "      <td>3.450000e+05</td>\n",
       "      <td>0.000000e+00</td>\n",
       "    </tr>\n",
       "    <tr>\n",
       "      <th>1</th>\n",
       "      <td>CZK</td>\n",
       "      <td>-2.607562e+06</td>\n",
       "      <td>-2.607562e+06</td>\n",
       "    </tr>\n",
       "  </tbody>\n",
       "</table>\n",
       "</div>"
      ],
      "text/plain": [
       "  asset     order_usd  validate_orders_USD\n",
       "0   AUD  3.450000e+05         0.000000e+00\n",
       "1   CZK -2.607562e+06        -2.607562e+06"
      ]
     },
     "execution_count": 17,
     "metadata": {},
     "output_type": "execute_result"
    }
   ],
   "source": [
    "total_orders['validate_orders_USD'] = total_orders.apply(\n",
    "    lambda row : row['order_usd'] if abs(row['order_usd']) >= min_order_size_usd[min_order_size_usd['asset'] == row['asset']]['min_order_size_usd'].iloc[0]\n",
    "    else 0,\n",
    "    axis=1\n",
    ")\n",
    "\n",
    "total_orders"
   ]
  },
  {
   "cell_type": "code",
   "execution_count": 18,
   "id": "df6f6b4b",
   "metadata": {},
   "outputs": [],
   "source": [
    "# the idea here could be to replace the target position values for strategies which were too small to get executed today with yesterday's target position values, so the last position will be correct\n",
    "# even easier actually would be to just remove today's unused tpos, though then you lose the decision for the record\n",
    "# it probably makes more sense to have separate systems tracking target and actual positions though, rather than using them as one and the same\n",
    "# in general could split out some things here into different reusable functions to make it cleaner (checking for inverted fx rates, database prep etc.)"
   ]
  }
 ],
 "metadata": {
  "kernelspec": {
   "display_name": "venv",
   "language": "python",
   "name": "python3"
  },
  "language_info": {
   "codemirror_mode": {
    "name": "ipython",
    "version": 3
   },
   "file_extension": ".py",
   "mimetype": "text/x-python",
   "name": "python",
   "nbconvert_exporter": "python",
   "pygments_lexer": "ipython3",
   "version": "3.13.1"
  },
  "toc": {
   "base_numbering": 1,
   "nav_menu": {},
   "number_sections": true,
   "sideBar": true,
   "skip_h1_title": false,
   "title_cell": "Table of Contents",
   "title_sidebar": "Contents",
   "toc_cell": false,
   "toc_position": {},
   "toc_section_display": true,
   "toc_window_display": false
  }
 },
 "nbformat": 4,
 "nbformat_minor": 5
}
