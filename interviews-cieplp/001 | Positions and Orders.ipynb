{
 "cells": [
  {
   "cell_type": "markdown",
   "id": "be29ce19",
   "metadata": {},
   "source": [
    "# Generate Orders from Positions"
   ]
  },
  {
   "cell_type": "code",
   "execution_count": 212,
   "id": "17a7d827",
   "metadata": {
    "ExecuteTime": {
     "end_time": "2024-10-12T12:12:54.188526Z",
     "start_time": "2024-10-12T12:12:51.927861Z"
    }
   },
   "outputs": [],
   "source": [
    "import pandas as pd\n",
    "import numpy as np\n",
    "import io"
   ]
  },
  {
   "cell_type": "markdown",
   "id": "489cc0b5",
   "metadata": {},
   "source": [
    "### Data"
   ]
  },
  {
   "cell_type": "code",
   "execution_count": 213,
   "id": "d8297a2d",
   "metadata": {
    "ExecuteTime": {
     "end_time": "2024-10-12T12:43:22.016564Z",
     "start_time": "2024-10-12T12:43:22.007003Z"
    }
   },
   "outputs": [],
   "source": [
    "def read(s):\n",
    "    df = pd.read_csv(io.StringIO(s), sep=\"|\") # io.StringIO() here let's us treat the string s as though it were a .csv file, necessary for pandas\n",
    "    df.rename(columns = lambda s : s.strip(), inplace=True) # anonymous function stripping whitespace\n",
    "    for col in df.columns:\n",
    "        if col in [\"dt\", \"rt\"]:\n",
    "            df[col] = pd.to_datetime(df[col]).dt.tz_localize('UTC') # need to localize to UTC to compare with timestamp\n",
    "        elif df.dtypes[col] == np.dtype(\"O\"): #dtype(\"0\") are non-numeric np objects\n",
    "            df[col] = df[col].apply(lambda s: s.strip())\n",
    "        else:\n",
    "            pass\n",
    "    return df"
   ]
  },
  {
   "cell_type": "markdown",
   "id": "b972b2cb",
   "metadata": {},
   "source": [
    "1. rt - reference time: when the strategy wants to achieve given target position\n",
    "2. dt - decision time: when the strategy decided to achieve that position"
   ]
  },
  {
   "cell_type": "code",
   "execution_count": 214,
   "id": "2d9b56c4",
   "metadata": {
    "ExecuteTime": {
     "end_time": "2024-10-12T12:43:22.411244Z",
     "start_time": "2024-10-12T12:43:22.390604Z"
    }
   },
   "outputs": [],
   "source": [
    "# Target Positions\n",
    "tpos = read(\"\"\"\n",
    "    rt                   | strategy | asset | dt                   | value\n",
    "    2023-08-29 07:00:00z | s1       | PLN   | 2023-08-29 07:00:00z | 4e6\n",
    "    2023-08-29 16:00:00z | s1       | CZK   | 2023-08-29 07:00:00z | -24e6\n",
    "    2023-08-30 07:00:00z | s1       | PLN   | 2023-08-30 07:00:00z | 8e6\n",
    "    2023-08-30 16:00:00z | s1       | CZK   | 2023-08-30 07:00:00z | -48e6\n",
    "    2023-08-29 07:00:00z | s2       | EUR   | 2023-08-29 07:00:00z | 1.8e6\n",
    "    2023-08-29 16:00:00z | s2       | AUD   | 2023-08-29 07:00:00z | -1.5e6\n",
    "    2023-08-30 07:00:00z | s2       | EUR   | 2023-08-30 07:00:00z | 3.6e6\n",
    "    2023-08-30 16:00:00z | s2       | AUD   | 2023-08-30 07:00:00z | -1e6\n",
    "    2023-08-29 07:00:00z | s3       | CZK   | 2023-08-29 07:00:00z | 12e6\n",
    "    2023-08-29 16:00:00z | s3       | CZK   | 2023-08-29 07:00:00z | 18e6\n",
    "    2023-08-30 07:00:00z | s3       | CZK   | 2023-08-30 07:00:00z | 18e6\n",
    "    2023-08-30 16:00:00z | s3       | CZK   | 2023-08-30 07:00:00z | 24e6\n",
    "    \"\"\")"
   ]
  },
  {
   "cell_type": "code",
   "execution_count": 215,
   "id": "f09beb7c",
   "metadata": {
    "ExecuteTime": {
     "end_time": "2024-10-12T12:43:22.750145Z",
     "start_time": "2024-10-12T12:43:22.730243Z"
    }
   },
   "outputs": [],
   "source": [
    "fx_rates = read(\"\"\"\n",
    "    rt                   | asset | value\n",
    "    2023-08-29 07:00:00z | PLN   | 3.934\n",
    "    2023-08-29 16:00:00z | PLN   | 3.924\n",
    "    2023-08-30 07:00:00z | PLN   | 3.914\n",
    "    2023-08-30 16:00:00z | PLN   | 3.904\n",
    "    \n",
    "    2023-08-29 07:00:00z | CZK   | 23.12\n",
    "    2023-08-29 16:00:00z | CZK   | 23.08\n",
    "    2023-08-30 07:00:00z | CZK   | 23.02\n",
    "    2023-08-30 16:00:00z | CZK   | 23.01\n",
    "    \n",
    "    2023-08-29 07:00:00z | EUR   | 1.116\n",
    "    2023-08-29 16:00:00z | EUR   | 1.119\n",
    "    2023-08-30 07:00:00z | EUR   | 1.121\n",
    "    2023-08-30 16:00:00z | EUR   | 1.122\n",
    "    \n",
    "    2023-08-29 07:00:00z | AUD   | 0.672\n",
    "    2023-08-29 16:00:00z | AUD   | 0.682\n",
    "    2023-08-30 07:00:00z | AUD   | 0.689\n",
    "    2023-08-30 16:00:00z | AUD   | 0.690\n",
    "    \"\"\")"
   ]
  },
  {
   "cell_type": "code",
   "execution_count": 216,
   "id": "b2dcbda1",
   "metadata": {
    "ExecuteTime": {
     "end_time": "2024-10-12T12:43:23.083573Z",
     "start_time": "2024-10-12T12:43:23.072876Z"
    }
   },
   "outputs": [],
   "source": [
    "min_order_size_usd = read(\"\"\"\n",
    "    asset | value\n",
    "    PLN   | 5e5\n",
    "    CZK   | 5e5\n",
    "    EUR   | 1e6\n",
    "    AUD   | 1e6\n",
    "\"\"\")"
   ]
  },
  {
   "cell_type": "code",
   "execution_count": 217,
   "id": "40bea2cd",
   "metadata": {
    "ExecuteTime": {
     "end_time": "2024-10-12T12:43:23.536424Z",
     "start_time": "2024-10-12T12:43:23.526747Z"
    }
   },
   "outputs": [],
   "source": [
    "trading_session = pd.Timestamp(\"2023-08-30 16:00:00z\")"
   ]
  },
  {
   "cell_type": "markdown",
   "id": "37aa00ad",
   "metadata": {},
   "source": [
    "### Easy Task: Generate orders (total & by strategy) as of trading session in local currency"
   ]
  },
  {
   "cell_type": "code",
   "execution_count": 254,
   "id": "98016a5b",
   "metadata": {
    "ExecuteTime": {
     "end_time": "2024-10-12T14:01:26.409608Z",
     "start_time": "2024-10-12T14:01:26.389634Z"
    }
   },
   "outputs": [
    {
     "name": "stdout",
     "output_type": "stream",
     "text": [
      "Assuming all positions are zero to begin with, today's trades are:\n",
      "   strategy asset       value\n",
      "3        s1   CZK -48000000.0\n",
      "7        s2   AUD  -1000000.0\n",
      "11       s3   CZK  24000000.0\n"
     ]
    }
   ],
   "source": [
    "todays_tpos = tpos[tpos['rt'] == trading_session]\n",
    "print(\"Assuming all positions are zero to begin with, today's trades are:\")\n",
    "print(todays_tpos[['strategy', 'asset', 'value']])"
   ]
  },
  {
   "cell_type": "markdown",
   "id": "333a482c",
   "metadata": {
    "ExecuteTime": {
     "end_time": "2024-10-12T12:23:17.003087Z",
     "start_time": "2024-10-12T12:23:16.992717Z"
    }
   },
   "source": [
    "### Medium Task: Generate orders (total & by strategy) as of trading session in USD"
   ]
  },
  {
   "cell_type": "code",
   "execution_count": 256,
   "id": "827148eb",
   "metadata": {
    "ExecuteTime": {
     "end_time": "2024-10-12T13:16:43.899065Z",
     "start_time": "2024-10-12T13:16:43.881002Z"
    }
   },
   "outputs": [
    {
     "data": {
      "text/html": [
       "<div>\n",
       "<style scoped>\n",
       "    .dataframe tbody tr th:only-of-type {\n",
       "        vertical-align: middle;\n",
       "    }\n",
       "\n",
       "    .dataframe tbody tr th {\n",
       "        vertical-align: top;\n",
       "    }\n",
       "\n",
       "    .dataframe thead th {\n",
       "        text-align: right;\n",
       "    }\n",
       "</style>\n",
       "<table border=\"1\" class=\"dataframe\">\n",
       "  <thead>\n",
       "    <tr style=\"text-align: right;\">\n",
       "      <th></th>\n",
       "      <th>strategy</th>\n",
       "      <th>asset</th>\n",
       "      <th>order_usd</th>\n",
       "    </tr>\n",
       "  </thead>\n",
       "  <tbody>\n",
       "    <tr>\n",
       "      <th>0</th>\n",
       "      <td>s1</td>\n",
       "      <td>PLN</td>\n",
       "      <td>0.000000e+00</td>\n",
       "    </tr>\n",
       "    <tr>\n",
       "      <th>1</th>\n",
       "      <td>s1</td>\n",
       "      <td>CZK</td>\n",
       "      <td>-1.043025e+06</td>\n",
       "    </tr>\n",
       "    <tr>\n",
       "      <th>2</th>\n",
       "      <td>s2</td>\n",
       "      <td>EUR</td>\n",
       "      <td>0.000000e+00</td>\n",
       "    </tr>\n",
       "    <tr>\n",
       "      <th>3</th>\n",
       "      <td>s2</td>\n",
       "      <td>AUD</td>\n",
       "      <td>3.450000e+05</td>\n",
       "    </tr>\n",
       "    <tr>\n",
       "      <th>4</th>\n",
       "      <td>s3</td>\n",
       "      <td>CZK</td>\n",
       "      <td>2.607562e+05</td>\n",
       "    </tr>\n",
       "  </tbody>\n",
       "</table>\n",
       "</div>"
      ],
      "text/plain": [
       "  strategy asset     order_usd\n",
       "0       s1   PLN  0.000000e+00\n",
       "1       s1   CZK -1.043025e+06\n",
       "2       s2   EUR  0.000000e+00\n",
       "3       s2   AUD  3.450000e+05\n",
       "4       s3   CZK  2.607562e+05"
      ]
     },
     "execution_count": 256,
     "metadata": {},
     "output_type": "execute_result"
    }
   ],
   "source": [
    "order_by_strategy_and_asset_usd = pd.DataFrame([\n",
    "    {'strategy': 's1', 'asset': 'PLN', 'order_usd': 0.0},\n",
    "    {'strategy': 's1', 'asset': 'CZK', 'order_usd': -1043024.7718383311},\n",
    "    {'strategy': 's2', 'asset': 'EUR', 'order_usd': 0.0},\n",
    "    {'strategy': 's2', 'asset': 'AUD', 'order_usd': 344999.99999999994},\n",
    "    {'strategy': 's3', 'asset': 'CZK', 'order_usd': 260756.19295958278}\n",
    "])\n",
    "order_by_strategy_and_asset_usd"
   ]
  },
  {
   "cell_type": "code",
   "execution_count": 257,
   "id": "5c6a6493",
   "metadata": {
    "ExecuteTime": {
     "end_time": "2024-10-12T13:23:58.684018Z",
     "start_time": "2024-10-12T13:23:58.668355Z"
    }
   },
   "outputs": [
    {
     "data": {
      "text/html": [
       "<div>\n",
       "<style scoped>\n",
       "    .dataframe tbody tr th:only-of-type {\n",
       "        vertical-align: middle;\n",
       "    }\n",
       "\n",
       "    .dataframe tbody tr th {\n",
       "        vertical-align: top;\n",
       "    }\n",
       "\n",
       "    .dataframe thead th {\n",
       "        text-align: right;\n",
       "    }\n",
       "</style>\n",
       "<table border=\"1\" class=\"dataframe\">\n",
       "  <thead>\n",
       "    <tr style=\"text-align: right;\">\n",
       "      <th></th>\n",
       "      <th>asset</th>\n",
       "      <th>order_usd</th>\n",
       "    </tr>\n",
       "  </thead>\n",
       "  <tbody>\n",
       "    <tr>\n",
       "      <th>0</th>\n",
       "      <td>AUD</td>\n",
       "      <td>345000.000000</td>\n",
       "    </tr>\n",
       "    <tr>\n",
       "      <th>1</th>\n",
       "      <td>CZK</td>\n",
       "      <td>-782268.578879</td>\n",
       "    </tr>\n",
       "    <tr>\n",
       "      <th>2</th>\n",
       "      <td>EUR</td>\n",
       "      <td>0.000000</td>\n",
       "    </tr>\n",
       "    <tr>\n",
       "      <th>3</th>\n",
       "      <td>PLN</td>\n",
       "      <td>0.000000</td>\n",
       "    </tr>\n",
       "  </tbody>\n",
       "</table>\n",
       "</div>"
      ],
      "text/plain": [
       "  asset      order_usd\n",
       "0   AUD  345000.000000\n",
       "1   CZK -782268.578879\n",
       "2   EUR       0.000000\n",
       "3   PLN       0.000000"
      ]
     },
     "execution_count": 257,
     "metadata": {},
     "output_type": "execute_result"
    }
   ],
   "source": [
    "order_by_asset_usd = pd.DataFrame([\n",
    "    {'asset': 'AUD', 'order_usd': 344999.99999999994},\n",
    "    {'asset': 'CZK', 'order_usd': -782268.5788787483},\n",
    "    {'asset': 'EUR', 'order_usd': 0.0},\n",
    "    {'asset': 'PLN', 'order_usd': 0.0}\n",
    "])\n",
    "order_by_asset_usd"
   ]
  },
  {
   "cell_type": "markdown",
   "id": "fbfe8f91",
   "metadata": {},
   "source": [
    "# Hard Task: Apply Minimum Order Size and generate new target position after this session\n",
    "\n",
    "*Context: In practice there is often minimum cost we need to pay when trading. This means the orders must be of certain size to make economic sense. Therefore, if order is below the limit size it will not be executed and this needs to be fed back to the target position, so that during next strategy it trades orders knowing that past position is as of T-2, not T-1 (since we skipped T-1 orders)*"
   ]
  },
  {
   "cell_type": "code",
   "execution_count": 258,
   "id": "b9d04a78",
   "metadata": {
    "ExecuteTime": {
     "end_time": "2024-10-12T13:35:45.212499Z",
     "start_time": "2024-10-12T13:35:45.197387Z"
    }
   },
   "outputs": [
    {
     "data": {
      "text/html": [
       "<div>\n",
       "<style scoped>\n",
       "    .dataframe tbody tr th:only-of-type {\n",
       "        vertical-align: middle;\n",
       "    }\n",
       "\n",
       "    .dataframe tbody tr th {\n",
       "        vertical-align: top;\n",
       "    }\n",
       "\n",
       "    .dataframe thead th {\n",
       "        text-align: right;\n",
       "    }\n",
       "</style>\n",
       "<table border=\"1\" class=\"dataframe\">\n",
       "  <thead>\n",
       "    <tr style=\"text-align: right;\">\n",
       "      <th></th>\n",
       "      <th>asset</th>\n",
       "      <th>value</th>\n",
       "    </tr>\n",
       "  </thead>\n",
       "  <tbody>\n",
       "    <tr>\n",
       "      <th>0</th>\n",
       "      <td>PLN</td>\n",
       "      <td>500000.0</td>\n",
       "    </tr>\n",
       "    <tr>\n",
       "      <th>1</th>\n",
       "      <td>CZK</td>\n",
       "      <td>500000.0</td>\n",
       "    </tr>\n",
       "    <tr>\n",
       "      <th>2</th>\n",
       "      <td>EUR</td>\n",
       "      <td>1000000.0</td>\n",
       "    </tr>\n",
       "    <tr>\n",
       "      <th>3</th>\n",
       "      <td>AUD</td>\n",
       "      <td>1000000.0</td>\n",
       "    </tr>\n",
       "  </tbody>\n",
       "</table>\n",
       "</div>"
      ],
      "text/plain": [
       "  asset      value\n",
       "0   PLN   500000.0\n",
       "1   CZK   500000.0\n",
       "2   EUR  1000000.0\n",
       "3   AUD  1000000.0"
      ]
     },
     "execution_count": 258,
     "metadata": {},
     "output_type": "execute_result"
    }
   ],
   "source": [
    "\"\"\" Minimum absolute size of the order in USD, below which we do not trade \"\"\"\n",
    "min_order_size_usd"
   ]
  },
  {
   "cell_type": "code",
   "execution_count": 259,
   "id": "d1f0178a",
   "metadata": {
    "ExecuteTime": {
     "end_time": "2024-10-12T13:54:14.324468Z",
     "start_time": "2024-10-12T13:54:14.304317Z"
    }
   },
   "outputs": [
    {
     "data": {
      "text/html": [
       "<div>\n",
       "<style scoped>\n",
       "    .dataframe tbody tr th:only-of-type {\n",
       "        vertical-align: middle;\n",
       "    }\n",
       "\n",
       "    .dataframe tbody tr th {\n",
       "        vertical-align: top;\n",
       "    }\n",
       "\n",
       "    .dataframe thead th {\n",
       "        text-align: right;\n",
       "    }\n",
       "</style>\n",
       "<table border=\"1\" class=\"dataframe\">\n",
       "  <thead>\n",
       "    <tr style=\"text-align: right;\">\n",
       "      <th></th>\n",
       "      <th>asset</th>\n",
       "      <th>order_usd</th>\n",
       "      <th>valid_orders</th>\n",
       "    </tr>\n",
       "  </thead>\n",
       "  <tbody>\n",
       "    <tr>\n",
       "      <th>0</th>\n",
       "      <td>AUD</td>\n",
       "      <td>345000.000000</td>\n",
       "      <td>0.000000</td>\n",
       "    </tr>\n",
       "    <tr>\n",
       "      <th>1</th>\n",
       "      <td>CZK</td>\n",
       "      <td>-782268.578879</td>\n",
       "      <td>-782268.578879</td>\n",
       "    </tr>\n",
       "    <tr>\n",
       "      <th>2</th>\n",
       "      <td>EUR</td>\n",
       "      <td>0.000000</td>\n",
       "      <td>0.000000</td>\n",
       "    </tr>\n",
       "    <tr>\n",
       "      <th>3</th>\n",
       "      <td>PLN</td>\n",
       "      <td>0.000000</td>\n",
       "      <td>0.000000</td>\n",
       "    </tr>\n",
       "  </tbody>\n",
       "</table>\n",
       "</div>"
      ],
      "text/plain": [
       "  asset      order_usd   valid_orders\n",
       "0   AUD  345000.000000       0.000000\n",
       "1   CZK -782268.578879 -782268.578879\n",
       "2   EUR       0.000000       0.000000\n",
       "3   PLN       0.000000       0.000000"
      ]
     },
     "execution_count": 259,
     "metadata": {},
     "output_type": "execute_result"
    }
   ],
   "source": [
    "valid_orders_usd = pd.DataFrame([\n",
    "    {'asset': 'AUD', 'order_usd': 344999.99999999994, 'valid_orders': 0.0},\n",
    "    {'asset': 'CZK','order_usd': -782268.5788787483, 'valid_orders': -782268.5788787483},\n",
    "    {'asset': 'EUR', 'order_usd': 0.0, 'valid_orders': 0.0},\n",
    "    {'asset': 'PLN', 'order_usd': 0.0, 'valid_orders': 0.0}\n",
    "])\n",
    "valid_orders_usd"
   ]
  },
  {
   "cell_type": "code",
   "execution_count": 260,
   "id": "25b8ad69",
   "metadata": {
    "ExecuteTime": {
     "end_time": "2024-10-12T14:25:52.158210Z",
     "start_time": "2024-10-12T14:25:52.140014Z"
    }
   },
   "outputs": [
    {
     "ename": "KeyError",
     "evalue": "Timestamp('2023-08-30 16:00:00+0000', tz='UTC')",
     "output_type": "error",
     "traceback": [
      "\u001b[0;31m---------------------------------------------------------------------------\u001b[0m",
      "\u001b[0;31mKeyError\u001b[0m                                  Traceback (most recent call last)",
      "Cell \u001b[0;32mIn[260], line 5\u001b[0m\n\u001b[1;32m      1\u001b[0m \u001b[38;5;124;03m\"\"\" \u001b[39;00m\n\u001b[1;32m      2\u001b[0m \u001b[38;5;124;03mHere I find exactly which orders were scaled down and by what scalar, \u001b[39;00m\n\u001b[1;32m      3\u001b[0m \u001b[38;5;124;03mwhich I will need when calculating final orders by strategy and asset\u001b[39;00m\n\u001b[1;32m      4\u001b[0m \u001b[38;5;124;03m\"\"\"\u001b[39;00m\n\u001b[0;32m----> 5\u001b[0m valid_orders_usd[\u001b[38;5;124m'\u001b[39m\u001b[38;5;124mfx_rate\u001b[39m\u001b[38;5;124m'\u001b[39m] \u001b[38;5;241m=\u001b[39m \u001b[43mvalid_orders_usd\u001b[49m\u001b[43m[\u001b[49m\u001b[38;5;124;43m'\u001b[39;49m\u001b[38;5;124;43masset\u001b[39;49m\u001b[38;5;124;43m'\u001b[39;49m\u001b[43m]\u001b[49m\u001b[38;5;241;43m.\u001b[39;49m\u001b[43mapply\u001b[49m\u001b[43m(\u001b[49m\n\u001b[1;32m      6\u001b[0m \u001b[43m    \u001b[49m\u001b[38;5;28;43;01mlambda\u001b[39;49;00m\u001b[43m \u001b[49m\u001b[43mx\u001b[49m\u001b[43m:\u001b[49m\u001b[43m \u001b[49m\u001b[38;5;241;43m1\u001b[39;49m\u001b[38;5;241;43m/\u001b[39;49m\u001b[43mfx_rates\u001b[49m\u001b[38;5;241;43m.\u001b[39;49m\u001b[43mloc\u001b[49m\u001b[43m[\u001b[49m\u001b[43mtrading_session\u001b[49m\u001b[43m]\u001b[49m\u001b[43m[\u001b[49m\u001b[43mx\u001b[49m\u001b[43m]\u001b[49m\u001b[43m \u001b[49m\u001b[38;5;28;43;01mif\u001b[39;49;00m\u001b[43m \u001b[49m\u001b[43mx\u001b[49m\u001b[43m \u001b[49m\u001b[38;5;129;43;01min\u001b[39;49;00m\u001b[43m \u001b[49m\u001b[43m[\u001b[49m\u001b[38;5;124;43m'\u001b[39;49m\u001b[38;5;124;43mEUR\u001b[39;49m\u001b[38;5;124;43m'\u001b[39;49m\u001b[43m,\u001b[49m\u001b[43m \u001b[49m\u001b[38;5;124;43m'\u001b[39;49m\u001b[38;5;124;43mAUD\u001b[39;49m\u001b[38;5;124;43m'\u001b[39;49m\u001b[43m]\u001b[49m\u001b[43m \u001b[49m\u001b[38;5;28;43;01melse\u001b[39;49;00m\u001b[43m \u001b[49m\u001b[43mfx_rates\u001b[49m\u001b[38;5;241;43m.\u001b[39;49m\u001b[43mloc\u001b[49m\u001b[43m[\u001b[49m\u001b[43mtrading_session\u001b[49m\u001b[43m]\u001b[49m\u001b[43m[\u001b[49m\u001b[43mx\u001b[49m\u001b[43m]\u001b[49m\n\u001b[1;32m      7\u001b[0m \u001b[43m)\u001b[49m\n\u001b[1;32m      9\u001b[0m valid_orders_usd[\u001b[38;5;124m'\u001b[39m\u001b[38;5;124mvalid_orders_local\u001b[39m\u001b[38;5;124m'\u001b[39m] \u001b[38;5;241m=\u001b[39m valid_orders_usd[\u001b[38;5;124m'\u001b[39m\u001b[38;5;124mvalid_orders\u001b[39m\u001b[38;5;124m'\u001b[39m] \u001b[38;5;241m*\u001b[39m valid_orders_usd[\u001b[38;5;124m'\u001b[39m\u001b[38;5;124mfx_rate\u001b[39m\u001b[38;5;124m'\u001b[39m]\n\u001b[1;32m     10\u001b[0m valid_orders_usd[\u001b[38;5;124m'\u001b[39m\u001b[38;5;124mscalar\u001b[39m\u001b[38;5;124m'\u001b[39m] \u001b[38;5;241m=\u001b[39m (valid_orders_usd[\u001b[38;5;124m'\u001b[39m\u001b[38;5;124mvalid_orders\u001b[39m\u001b[38;5;124m'\u001b[39m] \u001b[38;5;241m/\u001b[39m valid_orders_usd[\u001b[38;5;124m'\u001b[39m\u001b[38;5;124morder_usd\u001b[39m\u001b[38;5;124m'\u001b[39m])\u001b[38;5;241m.\u001b[39mfillna(\u001b[38;5;241m1\u001b[39m)\n",
      "File \u001b[0;32m~/Documents/Code/2024/90/venv/lib/python3.13/site-packages/pandas/core/series.py:4924\u001b[0m, in \u001b[0;36mSeries.apply\u001b[0;34m(self, func, convert_dtype, args, by_row, **kwargs)\u001b[0m\n\u001b[1;32m   4789\u001b[0m \u001b[38;5;28;01mdef\u001b[39;00m \u001b[38;5;21mapply\u001b[39m(\n\u001b[1;32m   4790\u001b[0m     \u001b[38;5;28mself\u001b[39m,\n\u001b[1;32m   4791\u001b[0m     func: AggFuncType,\n\u001b[0;32m   (...)\u001b[0m\n\u001b[1;32m   4796\u001b[0m     \u001b[38;5;241m*\u001b[39m\u001b[38;5;241m*\u001b[39mkwargs,\n\u001b[1;32m   4797\u001b[0m ) \u001b[38;5;241m-\u001b[39m\u001b[38;5;241m>\u001b[39m DataFrame \u001b[38;5;241m|\u001b[39m Series:\n\u001b[1;32m   4798\u001b[0m \u001b[38;5;250m    \u001b[39m\u001b[38;5;124;03m\"\"\"\u001b[39;00m\n\u001b[1;32m   4799\u001b[0m \u001b[38;5;124;03m    Invoke function on values of Series.\u001b[39;00m\n\u001b[1;32m   4800\u001b[0m \n\u001b[0;32m   (...)\u001b[0m\n\u001b[1;32m   4915\u001b[0m \u001b[38;5;124;03m    dtype: float64\u001b[39;00m\n\u001b[1;32m   4916\u001b[0m \u001b[38;5;124;03m    \"\"\"\u001b[39;00m\n\u001b[1;32m   4917\u001b[0m     \u001b[38;5;28;01mreturn\u001b[39;00m \u001b[43mSeriesApply\u001b[49m\u001b[43m(\u001b[49m\n\u001b[1;32m   4918\u001b[0m \u001b[43m        \u001b[49m\u001b[38;5;28;43mself\u001b[39;49m\u001b[43m,\u001b[49m\n\u001b[1;32m   4919\u001b[0m \u001b[43m        \u001b[49m\u001b[43mfunc\u001b[49m\u001b[43m,\u001b[49m\n\u001b[1;32m   4920\u001b[0m \u001b[43m        \u001b[49m\u001b[43mconvert_dtype\u001b[49m\u001b[38;5;241;43m=\u001b[39;49m\u001b[43mconvert_dtype\u001b[49m\u001b[43m,\u001b[49m\n\u001b[1;32m   4921\u001b[0m \u001b[43m        \u001b[49m\u001b[43mby_row\u001b[49m\u001b[38;5;241;43m=\u001b[39;49m\u001b[43mby_row\u001b[49m\u001b[43m,\u001b[49m\n\u001b[1;32m   4922\u001b[0m \u001b[43m        \u001b[49m\u001b[43margs\u001b[49m\u001b[38;5;241;43m=\u001b[39;49m\u001b[43margs\u001b[49m\u001b[43m,\u001b[49m\n\u001b[1;32m   4923\u001b[0m \u001b[43m        \u001b[49m\u001b[43mkwargs\u001b[49m\u001b[38;5;241;43m=\u001b[39;49m\u001b[43mkwargs\u001b[49m\u001b[43m,\u001b[49m\n\u001b[0;32m-> 4924\u001b[0m \u001b[43m    \u001b[49m\u001b[43m)\u001b[49m\u001b[38;5;241;43m.\u001b[39;49m\u001b[43mapply\u001b[49m\u001b[43m(\u001b[49m\u001b[43m)\u001b[49m\n",
      "File \u001b[0;32m~/Documents/Code/2024/90/venv/lib/python3.13/site-packages/pandas/core/apply.py:1427\u001b[0m, in \u001b[0;36mSeriesApply.apply\u001b[0;34m(self)\u001b[0m\n\u001b[1;32m   1424\u001b[0m     \u001b[38;5;28;01mreturn\u001b[39;00m \u001b[38;5;28mself\u001b[39m\u001b[38;5;241m.\u001b[39mapply_compat()\n\u001b[1;32m   1426\u001b[0m \u001b[38;5;66;03m# self.func is Callable\u001b[39;00m\n\u001b[0;32m-> 1427\u001b[0m \u001b[38;5;28;01mreturn\u001b[39;00m \u001b[38;5;28;43mself\u001b[39;49m\u001b[38;5;241;43m.\u001b[39;49m\u001b[43mapply_standard\u001b[49m\u001b[43m(\u001b[49m\u001b[43m)\u001b[49m\n",
      "File \u001b[0;32m~/Documents/Code/2024/90/venv/lib/python3.13/site-packages/pandas/core/apply.py:1507\u001b[0m, in \u001b[0;36mSeriesApply.apply_standard\u001b[0;34m(self)\u001b[0m\n\u001b[1;32m   1501\u001b[0m \u001b[38;5;66;03m# row-wise access\u001b[39;00m\n\u001b[1;32m   1502\u001b[0m \u001b[38;5;66;03m# apply doesn't have a `na_action` keyword and for backward compat reasons\u001b[39;00m\n\u001b[1;32m   1503\u001b[0m \u001b[38;5;66;03m# we need to give `na_action=\"ignore\"` for categorical data.\u001b[39;00m\n\u001b[1;32m   1504\u001b[0m \u001b[38;5;66;03m# TODO: remove the `na_action=\"ignore\"` when that default has been changed in\u001b[39;00m\n\u001b[1;32m   1505\u001b[0m \u001b[38;5;66;03m#  Categorical (GH51645).\u001b[39;00m\n\u001b[1;32m   1506\u001b[0m action \u001b[38;5;241m=\u001b[39m \u001b[38;5;124m\"\u001b[39m\u001b[38;5;124mignore\u001b[39m\u001b[38;5;124m\"\u001b[39m \u001b[38;5;28;01mif\u001b[39;00m \u001b[38;5;28misinstance\u001b[39m(obj\u001b[38;5;241m.\u001b[39mdtype, CategoricalDtype) \u001b[38;5;28;01melse\u001b[39;00m \u001b[38;5;28;01mNone\u001b[39;00m\n\u001b[0;32m-> 1507\u001b[0m mapped \u001b[38;5;241m=\u001b[39m \u001b[43mobj\u001b[49m\u001b[38;5;241;43m.\u001b[39;49m\u001b[43m_map_values\u001b[49m\u001b[43m(\u001b[49m\n\u001b[1;32m   1508\u001b[0m \u001b[43m    \u001b[49m\u001b[43mmapper\u001b[49m\u001b[38;5;241;43m=\u001b[39;49m\u001b[43mcurried\u001b[49m\u001b[43m,\u001b[49m\u001b[43m \u001b[49m\u001b[43mna_action\u001b[49m\u001b[38;5;241;43m=\u001b[39;49m\u001b[43maction\u001b[49m\u001b[43m,\u001b[49m\u001b[43m \u001b[49m\u001b[43mconvert\u001b[49m\u001b[38;5;241;43m=\u001b[39;49m\u001b[38;5;28;43mself\u001b[39;49m\u001b[38;5;241;43m.\u001b[39;49m\u001b[43mconvert_dtype\u001b[49m\n\u001b[1;32m   1509\u001b[0m \u001b[43m\u001b[49m\u001b[43m)\u001b[49m\n\u001b[1;32m   1511\u001b[0m \u001b[38;5;28;01mif\u001b[39;00m \u001b[38;5;28mlen\u001b[39m(mapped) \u001b[38;5;129;01mand\u001b[39;00m \u001b[38;5;28misinstance\u001b[39m(mapped[\u001b[38;5;241m0\u001b[39m], ABCSeries):\n\u001b[1;32m   1512\u001b[0m     \u001b[38;5;66;03m# GH#43986 Need to do list(mapped) in order to get treated as nested\u001b[39;00m\n\u001b[1;32m   1513\u001b[0m     \u001b[38;5;66;03m#  See also GH#25959 regarding EA support\u001b[39;00m\n\u001b[1;32m   1514\u001b[0m     \u001b[38;5;28;01mreturn\u001b[39;00m obj\u001b[38;5;241m.\u001b[39m_constructor_expanddim(\u001b[38;5;28mlist\u001b[39m(mapped), index\u001b[38;5;241m=\u001b[39mobj\u001b[38;5;241m.\u001b[39mindex)\n",
      "File \u001b[0;32m~/Documents/Code/2024/90/venv/lib/python3.13/site-packages/pandas/core/base.py:921\u001b[0m, in \u001b[0;36mIndexOpsMixin._map_values\u001b[0;34m(self, mapper, na_action, convert)\u001b[0m\n\u001b[1;32m    918\u001b[0m \u001b[38;5;28;01mif\u001b[39;00m \u001b[38;5;28misinstance\u001b[39m(arr, ExtensionArray):\n\u001b[1;32m    919\u001b[0m     \u001b[38;5;28;01mreturn\u001b[39;00m arr\u001b[38;5;241m.\u001b[39mmap(mapper, na_action\u001b[38;5;241m=\u001b[39mna_action)\n\u001b[0;32m--> 921\u001b[0m \u001b[38;5;28;01mreturn\u001b[39;00m \u001b[43malgorithms\u001b[49m\u001b[38;5;241;43m.\u001b[39;49m\u001b[43mmap_array\u001b[49m\u001b[43m(\u001b[49m\u001b[43marr\u001b[49m\u001b[43m,\u001b[49m\u001b[43m \u001b[49m\u001b[43mmapper\u001b[49m\u001b[43m,\u001b[49m\u001b[43m \u001b[49m\u001b[43mna_action\u001b[49m\u001b[38;5;241;43m=\u001b[39;49m\u001b[43mna_action\u001b[49m\u001b[43m,\u001b[49m\u001b[43m \u001b[49m\u001b[43mconvert\u001b[49m\u001b[38;5;241;43m=\u001b[39;49m\u001b[43mconvert\u001b[49m\u001b[43m)\u001b[49m\n",
      "File \u001b[0;32m~/Documents/Code/2024/90/venv/lib/python3.13/site-packages/pandas/core/algorithms.py:1743\u001b[0m, in \u001b[0;36mmap_array\u001b[0;34m(arr, mapper, na_action, convert)\u001b[0m\n\u001b[1;32m   1741\u001b[0m values \u001b[38;5;241m=\u001b[39m arr\u001b[38;5;241m.\u001b[39mastype(\u001b[38;5;28mobject\u001b[39m, copy\u001b[38;5;241m=\u001b[39m\u001b[38;5;28;01mFalse\u001b[39;00m)\n\u001b[1;32m   1742\u001b[0m \u001b[38;5;28;01mif\u001b[39;00m na_action \u001b[38;5;129;01mis\u001b[39;00m \u001b[38;5;28;01mNone\u001b[39;00m:\n\u001b[0;32m-> 1743\u001b[0m     \u001b[38;5;28;01mreturn\u001b[39;00m \u001b[43mlib\u001b[49m\u001b[38;5;241;43m.\u001b[39;49m\u001b[43mmap_infer\u001b[49m\u001b[43m(\u001b[49m\u001b[43mvalues\u001b[49m\u001b[43m,\u001b[49m\u001b[43m \u001b[49m\u001b[43mmapper\u001b[49m\u001b[43m,\u001b[49m\u001b[43m \u001b[49m\u001b[43mconvert\u001b[49m\u001b[38;5;241;43m=\u001b[39;49m\u001b[43mconvert\u001b[49m\u001b[43m)\u001b[49m\n\u001b[1;32m   1744\u001b[0m \u001b[38;5;28;01melse\u001b[39;00m:\n\u001b[1;32m   1745\u001b[0m     \u001b[38;5;28;01mreturn\u001b[39;00m lib\u001b[38;5;241m.\u001b[39mmap_infer_mask(\n\u001b[1;32m   1746\u001b[0m         values, mapper, mask\u001b[38;5;241m=\u001b[39misna(values)\u001b[38;5;241m.\u001b[39mview(np\u001b[38;5;241m.\u001b[39muint8), convert\u001b[38;5;241m=\u001b[39mconvert\n\u001b[1;32m   1747\u001b[0m     )\n",
      "File \u001b[0;32mlib.pyx:2972\u001b[0m, in \u001b[0;36mpandas._libs.lib.map_infer\u001b[0;34m()\u001b[0m\n",
      "Cell \u001b[0;32mIn[260], line 6\u001b[0m, in \u001b[0;36m<lambda>\u001b[0;34m(x)\u001b[0m\n\u001b[1;32m      1\u001b[0m \u001b[38;5;124;03m\"\"\" \u001b[39;00m\n\u001b[1;32m      2\u001b[0m \u001b[38;5;124;03mHere I find exactly which orders were scaled down and by what scalar, \u001b[39;00m\n\u001b[1;32m      3\u001b[0m \u001b[38;5;124;03mwhich I will need when calculating final orders by strategy and asset\u001b[39;00m\n\u001b[1;32m      4\u001b[0m \u001b[38;5;124;03m\"\"\"\u001b[39;00m\n\u001b[1;32m      5\u001b[0m valid_orders_usd[\u001b[38;5;124m'\u001b[39m\u001b[38;5;124mfx_rate\u001b[39m\u001b[38;5;124m'\u001b[39m] \u001b[38;5;241m=\u001b[39m valid_orders_usd[\u001b[38;5;124m'\u001b[39m\u001b[38;5;124masset\u001b[39m\u001b[38;5;124m'\u001b[39m]\u001b[38;5;241m.\u001b[39mapply(\n\u001b[0;32m----> 6\u001b[0m     \u001b[38;5;28;01mlambda\u001b[39;00m x: \u001b[38;5;241m1\u001b[39m\u001b[38;5;241m/\u001b[39m\u001b[43mfx_rates\u001b[49m\u001b[38;5;241;43m.\u001b[39;49m\u001b[43mloc\u001b[49m\u001b[43m[\u001b[49m\u001b[43mtrading_session\u001b[49m\u001b[43m]\u001b[49m[x] \u001b[38;5;28;01mif\u001b[39;00m x \u001b[38;5;129;01min\u001b[39;00m [\u001b[38;5;124m'\u001b[39m\u001b[38;5;124mEUR\u001b[39m\u001b[38;5;124m'\u001b[39m, \u001b[38;5;124m'\u001b[39m\u001b[38;5;124mAUD\u001b[39m\u001b[38;5;124m'\u001b[39m] \u001b[38;5;28;01melse\u001b[39;00m fx_rates\u001b[38;5;241m.\u001b[39mloc[trading_session][x]\n\u001b[1;32m      7\u001b[0m )\n\u001b[1;32m      9\u001b[0m valid_orders_usd[\u001b[38;5;124m'\u001b[39m\u001b[38;5;124mvalid_orders_local\u001b[39m\u001b[38;5;124m'\u001b[39m] \u001b[38;5;241m=\u001b[39m valid_orders_usd[\u001b[38;5;124m'\u001b[39m\u001b[38;5;124mvalid_orders\u001b[39m\u001b[38;5;124m'\u001b[39m] \u001b[38;5;241m*\u001b[39m valid_orders_usd[\u001b[38;5;124m'\u001b[39m\u001b[38;5;124mfx_rate\u001b[39m\u001b[38;5;124m'\u001b[39m]\n\u001b[1;32m     10\u001b[0m valid_orders_usd[\u001b[38;5;124m'\u001b[39m\u001b[38;5;124mscalar\u001b[39m\u001b[38;5;124m'\u001b[39m] \u001b[38;5;241m=\u001b[39m (valid_orders_usd[\u001b[38;5;124m'\u001b[39m\u001b[38;5;124mvalid_orders\u001b[39m\u001b[38;5;124m'\u001b[39m] \u001b[38;5;241m/\u001b[39m valid_orders_usd[\u001b[38;5;124m'\u001b[39m\u001b[38;5;124morder_usd\u001b[39m\u001b[38;5;124m'\u001b[39m])\u001b[38;5;241m.\u001b[39mfillna(\u001b[38;5;241m1\u001b[39m)\n",
      "File \u001b[0;32m~/Documents/Code/2024/90/venv/lib/python3.13/site-packages/pandas/core/indexing.py:1191\u001b[0m, in \u001b[0;36m_LocationIndexer.__getitem__\u001b[0;34m(self, key)\u001b[0m\n\u001b[1;32m   1189\u001b[0m maybe_callable \u001b[38;5;241m=\u001b[39m com\u001b[38;5;241m.\u001b[39mapply_if_callable(key, \u001b[38;5;28mself\u001b[39m\u001b[38;5;241m.\u001b[39mobj)\n\u001b[1;32m   1190\u001b[0m maybe_callable \u001b[38;5;241m=\u001b[39m \u001b[38;5;28mself\u001b[39m\u001b[38;5;241m.\u001b[39m_check_deprecated_callable_usage(key, maybe_callable)\n\u001b[0;32m-> 1191\u001b[0m \u001b[38;5;28;01mreturn\u001b[39;00m \u001b[38;5;28;43mself\u001b[39;49m\u001b[38;5;241;43m.\u001b[39;49m\u001b[43m_getitem_axis\u001b[49m\u001b[43m(\u001b[49m\u001b[43mmaybe_callable\u001b[49m\u001b[43m,\u001b[49m\u001b[43m \u001b[49m\u001b[43maxis\u001b[49m\u001b[38;5;241;43m=\u001b[39;49m\u001b[43maxis\u001b[49m\u001b[43m)\u001b[49m\n",
      "File \u001b[0;32m~/Documents/Code/2024/90/venv/lib/python3.13/site-packages/pandas/core/indexing.py:1431\u001b[0m, in \u001b[0;36m_LocIndexer._getitem_axis\u001b[0;34m(self, key, axis)\u001b[0m\n\u001b[1;32m   1429\u001b[0m \u001b[38;5;66;03m# fall thru to straight lookup\u001b[39;00m\n\u001b[1;32m   1430\u001b[0m \u001b[38;5;28mself\u001b[39m\u001b[38;5;241m.\u001b[39m_validate_key(key, axis)\n\u001b[0;32m-> 1431\u001b[0m \u001b[38;5;28;01mreturn\u001b[39;00m \u001b[38;5;28;43mself\u001b[39;49m\u001b[38;5;241;43m.\u001b[39;49m\u001b[43m_get_label\u001b[49m\u001b[43m(\u001b[49m\u001b[43mkey\u001b[49m\u001b[43m,\u001b[49m\u001b[43m \u001b[49m\u001b[43maxis\u001b[49m\u001b[38;5;241;43m=\u001b[39;49m\u001b[43maxis\u001b[49m\u001b[43m)\u001b[49m\n",
      "File \u001b[0;32m~/Documents/Code/2024/90/venv/lib/python3.13/site-packages/pandas/core/indexing.py:1381\u001b[0m, in \u001b[0;36m_LocIndexer._get_label\u001b[0;34m(self, label, axis)\u001b[0m\n\u001b[1;32m   1379\u001b[0m \u001b[38;5;28;01mdef\u001b[39;00m \u001b[38;5;21m_get_label\u001b[39m(\u001b[38;5;28mself\u001b[39m, label, axis: AxisInt):\n\u001b[1;32m   1380\u001b[0m     \u001b[38;5;66;03m# GH#5567 this will fail if the label is not present in the axis.\u001b[39;00m\n\u001b[0;32m-> 1381\u001b[0m     \u001b[38;5;28;01mreturn\u001b[39;00m \u001b[38;5;28;43mself\u001b[39;49m\u001b[38;5;241;43m.\u001b[39;49m\u001b[43mobj\u001b[49m\u001b[38;5;241;43m.\u001b[39;49m\u001b[43mxs\u001b[49m\u001b[43m(\u001b[49m\u001b[43mlabel\u001b[49m\u001b[43m,\u001b[49m\u001b[43m \u001b[49m\u001b[43maxis\u001b[49m\u001b[38;5;241;43m=\u001b[39;49m\u001b[43maxis\u001b[49m\u001b[43m)\u001b[49m\n",
      "File \u001b[0;32m~/Documents/Code/2024/90/venv/lib/python3.13/site-packages/pandas/core/generic.py:4301\u001b[0m, in \u001b[0;36mNDFrame.xs\u001b[0;34m(self, key, axis, level, drop_level)\u001b[0m\n\u001b[1;32m   4299\u001b[0m             new_index \u001b[38;5;241m=\u001b[39m index[loc]\n\u001b[1;32m   4300\u001b[0m \u001b[38;5;28;01melse\u001b[39;00m:\n\u001b[0;32m-> 4301\u001b[0m     loc \u001b[38;5;241m=\u001b[39m \u001b[43mindex\u001b[49m\u001b[38;5;241;43m.\u001b[39;49m\u001b[43mget_loc\u001b[49m\u001b[43m(\u001b[49m\u001b[43mkey\u001b[49m\u001b[43m)\u001b[49m\n\u001b[1;32m   4303\u001b[0m     \u001b[38;5;28;01mif\u001b[39;00m \u001b[38;5;28misinstance\u001b[39m(loc, np\u001b[38;5;241m.\u001b[39mndarray):\n\u001b[1;32m   4304\u001b[0m         \u001b[38;5;28;01mif\u001b[39;00m loc\u001b[38;5;241m.\u001b[39mdtype \u001b[38;5;241m==\u001b[39m np\u001b[38;5;241m.\u001b[39mbool_:\n",
      "File \u001b[0;32m~/Documents/Code/2024/90/venv/lib/python3.13/site-packages/pandas/core/indexes/range.py:417\u001b[0m, in \u001b[0;36mRangeIndex.get_loc\u001b[0;34m(self, key)\u001b[0m\n\u001b[1;32m    415\u001b[0m         \u001b[38;5;28;01mraise\u001b[39;00m \u001b[38;5;167;01mKeyError\u001b[39;00m(key) \u001b[38;5;28;01mfrom\u001b[39;00m \u001b[38;5;21;01merr\u001b[39;00m\n\u001b[1;32m    416\u001b[0m \u001b[38;5;28;01mif\u001b[39;00m \u001b[38;5;28misinstance\u001b[39m(key, Hashable):\n\u001b[0;32m--> 417\u001b[0m     \u001b[38;5;28;01mraise\u001b[39;00m \u001b[38;5;167;01mKeyError\u001b[39;00m(key)\n\u001b[1;32m    418\u001b[0m \u001b[38;5;28mself\u001b[39m\u001b[38;5;241m.\u001b[39m_check_indexing_error(key)\n\u001b[1;32m    419\u001b[0m \u001b[38;5;28;01mraise\u001b[39;00m \u001b[38;5;167;01mKeyError\u001b[39;00m(key)\n",
      "\u001b[0;31mKeyError\u001b[0m: Timestamp('2023-08-30 16:00:00+0000', tz='UTC')"
     ]
    }
   ],
   "source": [
    "\"\"\" \n",
    "Here I find exactly which orders were scaled down and by what scalar, \n",
    "which I will need when calculating final orders by strategy and asset\n",
    "\"\"\"\n",
    "valid_orders_usd['fx_rate'] = valid_orders_usd['asset'].apply(\n",
    "    lambda x: 1/fx_rates.loc[trading_session][x] if x in ['EUR', 'AUD'] else fx_rates.loc[trading_session][x]\n",
    ")\n",
    "\n",
    "valid_orders_usd['valid_orders_local'] = valid_orders_usd['valid_orders'] * valid_orders_usd['fx_rate']\n",
    "valid_orders_usd['scalar'] = (valid_orders_usd['valid_orders'] / valid_orders_usd['order_usd']).fillna(1)\n",
    "valid_orders_scalar = valid_orders_usd.set_index('asset')['scalar']\n",
    "valid_orders_scalar"
   ]
  },
  {
   "cell_type": "code",
   "execution_count": 129,
   "id": "ae5bdb0e",
   "metadata": {
    "ExecuteTime": {
     "end_time": "2024-10-12T14:26:21.426818Z",
     "start_time": "2024-10-12T14:26:21.405821Z"
    }
   },
   "outputs": [
    {
     "data": {
      "text/html": [
       "<div>\n",
       "<style scoped>\n",
       "    .dataframe tbody tr th:only-of-type {\n",
       "        vertical-align: middle;\n",
       "    }\n",
       "\n",
       "    .dataframe tbody tr th {\n",
       "        vertical-align: top;\n",
       "    }\n",
       "\n",
       "    .dataframe thead th {\n",
       "        text-align: right;\n",
       "    }\n",
       "</style>\n",
       "<table border=\"1\" class=\"dataframe\">\n",
       "  <thead>\n",
       "    <tr style=\"text-align: right;\">\n",
       "      <th></th>\n",
       "      <th>strategy</th>\n",
       "      <th>asset</th>\n",
       "      <th>order_local_ccy</th>\n",
       "      <th>order_local_ccy_validated</th>\n",
       "      <th>dt</th>\n",
       "      <th>rt</th>\n",
       "    </tr>\n",
       "  </thead>\n",
       "  <tbody>\n",
       "    <tr>\n",
       "      <th>0</th>\n",
       "      <td>s1</td>\n",
       "      <td>PLN</td>\n",
       "      <td>0.0</td>\n",
       "      <td>0.0</td>\n",
       "      <td>2023-08-30 07:00:00+00:00</td>\n",
       "      <td>2023-08-30 16:00:00+00:00</td>\n",
       "    </tr>\n",
       "    <tr>\n",
       "      <th>1</th>\n",
       "      <td>s1</td>\n",
       "      <td>CZK</td>\n",
       "      <td>-24000000.0</td>\n",
       "      <td>-24000000.0</td>\n",
       "      <td>2023-08-30 07:00:00+00:00</td>\n",
       "      <td>2023-08-30 16:00:00+00:00</td>\n",
       "    </tr>\n",
       "    <tr>\n",
       "      <th>2</th>\n",
       "      <td>s2</td>\n",
       "      <td>EUR</td>\n",
       "      <td>0.0</td>\n",
       "      <td>0.0</td>\n",
       "      <td>2023-08-30 07:00:00+00:00</td>\n",
       "      <td>2023-08-30 16:00:00+00:00</td>\n",
       "    </tr>\n",
       "    <tr>\n",
       "      <th>3</th>\n",
       "      <td>s2</td>\n",
       "      <td>AUD</td>\n",
       "      <td>500000.0</td>\n",
       "      <td>0.0</td>\n",
       "      <td>2023-08-30 07:00:00+00:00</td>\n",
       "      <td>2023-08-30 16:00:00+00:00</td>\n",
       "    </tr>\n",
       "    <tr>\n",
       "      <th>4</th>\n",
       "      <td>s3</td>\n",
       "      <td>CZK</td>\n",
       "      <td>6000000.0</td>\n",
       "      <td>6000000.0</td>\n",
       "      <td>2023-08-30 07:00:00+00:00</td>\n",
       "      <td>2023-08-30 16:00:00+00:00</td>\n",
       "    </tr>\n",
       "  </tbody>\n",
       "</table>\n",
       "</div>"
      ],
      "text/plain": [
       "  strategy asset  order_local_ccy  order_local_ccy_validated  \\\n",
       "0       s1   PLN              0.0                        0.0   \n",
       "1       s1   CZK      -24000000.0                -24000000.0   \n",
       "2       s2   EUR              0.0                        0.0   \n",
       "3       s2   AUD         500000.0                        0.0   \n",
       "4       s3   CZK        6000000.0                  6000000.0   \n",
       "\n",
       "                         dt                        rt  \n",
       "0 2023-08-30 07:00:00+00:00 2023-08-30 16:00:00+00:00  \n",
       "1 2023-08-30 07:00:00+00:00 2023-08-30 16:00:00+00:00  \n",
       "2 2023-08-30 07:00:00+00:00 2023-08-30 16:00:00+00:00  \n",
       "3 2023-08-30 07:00:00+00:00 2023-08-30 16:00:00+00:00  \n",
       "4 2023-08-30 07:00:00+00:00 2023-08-30 16:00:00+00:00  "
      ]
     },
     "execution_count": 129,
     "metadata": {},
     "output_type": "execute_result"
    }
   ],
   "source": [
    "o_sa_local = order_by_strategy_and_asset_local_ccy # for convenience\n",
    "o_sa_local['order_local_ccy_validated'] = o_sa_local.apply(\n",
    "    lambda row: valid_orders_scalar[row['asset']] * row['order_local_ccy'], axis=1\n",
    ")\n",
    "order_as_valid = o_sa_local.copy()\n",
    "order_as_valid['dt'] = pd.Timestamp(\"2023-08-30 07:00:00z\")\n",
    "order_as_valid['rt'] = trading_session\n",
    "order_as_valid"
   ]
  },
  {
   "cell_type": "code",
   "execution_count": 130,
   "id": "2ac411ae",
   "metadata": {
    "ExecuteTime": {
     "end_time": "2024-10-12T14:26:25.014213Z",
     "start_time": "2024-10-12T14:26:24.994663Z"
    }
   },
   "outputs": [],
   "source": [
    "\"\"\" Adding those orders back to positions to create final target position \"\"\"\n",
    "\n",
    "original_positions = tpos.unstack(['strategy', 'asset']).ffill()\n",
    "original_positions_drop_last_row = original_positions[\n",
    "    original_positions.index.get_level_values('rt') != trading_session]\n",
    "\n",
    "clean_new_orders = order_as_valid.set_index(['rt', 'dt', 'strategy', 'asset'])['order_local_ccy_validated']\n",
    "\n",
    "new_last_row = original_positions_drop_last_row.iloc[-1] + clean_new_orders"
   ]
  },
  {
   "cell_type": "code",
   "execution_count": 131,
   "id": "18e5168a",
   "metadata": {
    "ExecuteTime": {
     "end_time": "2024-10-12T14:26:25.238677Z",
     "start_time": "2024-10-12T14:26:25.218324Z"
    }
   },
   "outputs": [
    {
     "data": {
      "text/html": [
       "<div>\n",
       "<style scoped>\n",
       "    .dataframe tbody tr th:only-of-type {\n",
       "        vertical-align: middle;\n",
       "    }\n",
       "\n",
       "    .dataframe tbody tr th {\n",
       "        vertical-align: top;\n",
       "    }\n",
       "\n",
       "    .dataframe thead tr th {\n",
       "        text-align: left;\n",
       "    }\n",
       "\n",
       "    .dataframe thead tr:last-of-type th {\n",
       "        text-align: right;\n",
       "    }\n",
       "</style>\n",
       "<table border=\"1\" class=\"dataframe\">\n",
       "  <thead>\n",
       "    <tr>\n",
       "      <th></th>\n",
       "      <th>strategy</th>\n",
       "      <th colspan=\"2\" halign=\"left\">s1</th>\n",
       "      <th colspan=\"2\" halign=\"left\">s2</th>\n",
       "      <th>s3</th>\n",
       "    </tr>\n",
       "    <tr>\n",
       "      <th></th>\n",
       "      <th>asset</th>\n",
       "      <th>PLN</th>\n",
       "      <th>CZK</th>\n",
       "      <th>EUR</th>\n",
       "      <th>AUD</th>\n",
       "      <th>CZK</th>\n",
       "    </tr>\n",
       "    <tr>\n",
       "      <th>rt</th>\n",
       "      <th>dt</th>\n",
       "      <th></th>\n",
       "      <th></th>\n",
       "      <th></th>\n",
       "      <th></th>\n",
       "      <th></th>\n",
       "    </tr>\n",
       "  </thead>\n",
       "  <tbody>\n",
       "    <tr>\n",
       "      <th>2023-08-29 07:00:00+00:00</th>\n",
       "      <th>2023-08-29 07:00:00+00:00</th>\n",
       "      <td>4000000.0</td>\n",
       "      <td>NaN</td>\n",
       "      <td>1800000.0</td>\n",
       "      <td>NaN</td>\n",
       "      <td>12000000.0</td>\n",
       "    </tr>\n",
       "    <tr>\n",
       "      <th>2023-08-29 16:00:00+00:00</th>\n",
       "      <th>2023-08-29 07:00:00+00:00</th>\n",
       "      <td>4000000.0</td>\n",
       "      <td>-24000000.0</td>\n",
       "      <td>1800000.0</td>\n",
       "      <td>-1500000.0</td>\n",
       "      <td>18000000.0</td>\n",
       "    </tr>\n",
       "    <tr>\n",
       "      <th>2023-08-30 07:00:00+00:00</th>\n",
       "      <th>2023-08-30 07:00:00+00:00</th>\n",
       "      <td>8000000.0</td>\n",
       "      <td>-24000000.0</td>\n",
       "      <td>3600000.0</td>\n",
       "      <td>-1500000.0</td>\n",
       "      <td>18000000.0</td>\n",
       "    </tr>\n",
       "    <tr>\n",
       "      <th>2023-08-30 16:00:00+00:00</th>\n",
       "      <th>2023-08-30 07:00:00+00:00</th>\n",
       "      <td>8000000.0</td>\n",
       "      <td>-48000000.0</td>\n",
       "      <td>3600000.0</td>\n",
       "      <td>-1500000.0</td>\n",
       "      <td>24000000.0</td>\n",
       "    </tr>\n",
       "  </tbody>\n",
       "</table>\n",
       "</div>"
      ],
      "text/plain": [
       "strategy                                                    s1              \\\n",
       "asset                                                      PLN         CZK   \n",
       "rt                        dt                                                 \n",
       "2023-08-29 07:00:00+00:00 2023-08-29 07:00:00+00:00  4000000.0         NaN   \n",
       "2023-08-29 16:00:00+00:00 2023-08-29 07:00:00+00:00  4000000.0 -24000000.0   \n",
       "2023-08-30 07:00:00+00:00 2023-08-30 07:00:00+00:00  8000000.0 -24000000.0   \n",
       "2023-08-30 16:00:00+00:00 2023-08-30 07:00:00+00:00  8000000.0 -48000000.0   \n",
       "\n",
       "strategy                                                    s2             \\\n",
       "asset                                                      EUR        AUD   \n",
       "rt                        dt                                                \n",
       "2023-08-29 07:00:00+00:00 2023-08-29 07:00:00+00:00  1800000.0        NaN   \n",
       "2023-08-29 16:00:00+00:00 2023-08-29 07:00:00+00:00  1800000.0 -1500000.0   \n",
       "2023-08-30 07:00:00+00:00 2023-08-30 07:00:00+00:00  3600000.0 -1500000.0   \n",
       "2023-08-30 16:00:00+00:00 2023-08-30 07:00:00+00:00  3600000.0 -1500000.0   \n",
       "\n",
       "strategy                                                     s3  \n",
       "asset                                                       CZK  \n",
       "rt                        dt                                     \n",
       "2023-08-29 07:00:00+00:00 2023-08-29 07:00:00+00:00  12000000.0  \n",
       "2023-08-29 16:00:00+00:00 2023-08-29 07:00:00+00:00  18000000.0  \n",
       "2023-08-30 07:00:00+00:00 2023-08-30 07:00:00+00:00  18000000.0  \n",
       "2023-08-30 16:00:00+00:00 2023-08-30 07:00:00+00:00  24000000.0  "
      ]
     },
     "execution_count": 131,
     "metadata": {},
     "output_type": "execute_result"
    }
   ],
   "source": [
    "\"\"\" Final Result \"\"\"\n",
    "modified_position_final = pd.concat([original_positions_drop_last_row, new_last_row.unstack(['strategy', 'asset'])], axis=0)\n",
    "modified_position_final"
   ]
  }
 ],
 "metadata": {
  "kernelspec": {
   "display_name": "venv",
   "language": "python",
   "name": "python3"
  },
  "language_info": {
   "codemirror_mode": {
    "name": "ipython",
    "version": 3
   },
   "file_extension": ".py",
   "mimetype": "text/x-python",
   "name": "python",
   "nbconvert_exporter": "python",
   "pygments_lexer": "ipython3",
   "version": "3.13.1"
  },
  "toc": {
   "base_numbering": 1,
   "nav_menu": {},
   "number_sections": true,
   "sideBar": true,
   "skip_h1_title": false,
   "title_cell": "Table of Contents",
   "title_sidebar": "Contents",
   "toc_cell": false,
   "toc_position": {},
   "toc_section_display": true,
   "toc_window_display": false
  }
 },
 "nbformat": 4,
 "nbformat_minor": 5
}
